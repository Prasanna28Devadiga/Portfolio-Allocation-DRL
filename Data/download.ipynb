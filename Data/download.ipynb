{
  "nbformat": 4,
  "nbformat_minor": 0,
  "metadata": {
    "colab": {
      "name": "Scripttodownloaddata.ipynb",
      "provenance": []
    },
    "kernelspec": {
      "display_name": "Python 3",
      "name": "python3"
    }
  },
  "cells": [
    {
      "cell_type": "code",
      "metadata": {
        "colab": {
          "base_uri": "https://localhost:8080/"
        },
        "id": "We6S4H9x4edt",
        "outputId": "b6a4003e-fcec-4857-d7dd-fdea70f55dd4"
      },
      "source": [
        "!pip install yfinance\r\n",
        "import pandas as pd\r\n",
        "import yfinance as yf\r\n",
        "import datetime\r\n",
        "import time\r\n",
        "import requests\r\n",
        "import io"
      ],
      "execution_count": null,
      "outputs": [
        {
          "output_type": "stream",
          "text": [
            "Collecting yfinance\n",
            "  Downloading https://files.pythonhosted.org/packages/7a/e8/b9d7104d3a4bf39924799067592d9e59119fcfc900a425a12e80a3123ec8/yfinance-0.1.55.tar.gz\n",
            "Requirement already satisfied: pandas>=0.24 in /usr/local/lib/python3.6/dist-packages (from yfinance) (1.1.5)\n",
            "Requirement already satisfied: numpy>=1.15 in /usr/local/lib/python3.6/dist-packages (from yfinance) (1.19.5)\n",
            "Requirement already satisfied: requests>=2.20 in /usr/local/lib/python3.6/dist-packages (from yfinance) (2.23.0)\n",
            "Requirement already satisfied: multitasking>=0.0.7 in /usr/local/lib/python3.6/dist-packages (from yfinance) (0.0.9)\n",
            "Collecting lxml>=4.5.1\n",
            "\u001b[?25l  Downloading https://files.pythonhosted.org/packages/bd/78/56a7c88a57d0d14945472535d0df9fb4bbad7d34ede658ec7961635c790e/lxml-4.6.2-cp36-cp36m-manylinux1_x86_64.whl (5.5MB)\n",
            "\u001b[K     |████████████████████████████████| 5.5MB 6.5MB/s \n",
            "\u001b[?25hRequirement already satisfied: pytz>=2017.2 in /usr/local/lib/python3.6/dist-packages (from pandas>=0.24->yfinance) (2018.9)\n",
            "Requirement already satisfied: python-dateutil>=2.7.3 in /usr/local/lib/python3.6/dist-packages (from pandas>=0.24->yfinance) (2.8.1)\n",
            "Requirement already satisfied: chardet<4,>=3.0.2 in /usr/local/lib/python3.6/dist-packages (from requests>=2.20->yfinance) (3.0.4)\n",
            "Requirement already satisfied: urllib3!=1.25.0,!=1.25.1,<1.26,>=1.21.1 in /usr/local/lib/python3.6/dist-packages (from requests>=2.20->yfinance) (1.24.3)\n",
            "Requirement already satisfied: certifi>=2017.4.17 in /usr/local/lib/python3.6/dist-packages (from requests>=2.20->yfinance) (2020.12.5)\n",
            "Requirement already satisfied: idna<3,>=2.5 in /usr/local/lib/python3.6/dist-packages (from requests>=2.20->yfinance) (2.10)\n",
            "Requirement already satisfied: six>=1.5 in /usr/local/lib/python3.6/dist-packages (from python-dateutil>=2.7.3->pandas>=0.24->yfinance) (1.15.0)\n",
            "Building wheels for collected packages: yfinance\n",
            "  Building wheel for yfinance (setup.py) ... \u001b[?25l\u001b[?25hdone\n",
            "  Created wheel for yfinance: filename=yfinance-0.1.55-py2.py3-none-any.whl size=22616 sha256=7f4964da8443e320205f8fde0a1bb9637661ad912c839f05cb5fe4af7955137a\n",
            "  Stored in directory: /root/.cache/pip/wheels/04/98/cc/2702a4242d60bdc14f48b4557c427ded1fe92aedf257d4565c\n",
            "Successfully built yfinance\n",
            "Installing collected packages: lxml, yfinance\n",
            "  Found existing installation: lxml 4.2.6\n",
            "    Uninstalling lxml-4.2.6:\n",
            "      Successfully uninstalled lxml-4.2.6\n",
            "Successfully installed lxml-4.6.2 yfinance-0.1.55\n"
          ],
          "name": "stdout"
        }
      ]
    },
    {
      "cell_type": "code",
      "metadata": {
        "id": "F-4e9gpm4fDI"
      },
      "source": [
        "start = datetime.datetime(2016,2,9)\r\n",
        "end = datetime.datetime(2020,2,9)"
      ],
      "execution_count": null,
      "outputs": []
    },
    {
      "cell_type": "code",
      "metadata": {
        "id": "zwJYiXAr42dT"
      },
      "source": [
        "Symbols= [\"AAPL\",\"MSFT\",\"AMZN\",\"TSLA\",\"GOOG\",\"FB\",\"GOOGL\",\"NVDA\",\"PYPL\",\"INTC\",\"NFLX\",\"ADBE\",\"CMCSA\",\"CSCO\",\"PEP\",\"AVGO\",\"QCOM\",\"TXN\",\"COST\",\"TMUS\",\"AMGN\",\"SBUX\",\"CHTR\",\"AMD\",\"INTU\",\"AMAT\",\"MELI\",\"MU\",\"ISRG\",\"BKNG\",\"GILD\",\"JD\",\"MDLZ\",\"ZM\",\"ATVI\",\"LRCX\",\"BIDU\",\"FISV\",\"MRNA\",\"ADP\",\"CSX\",\"ADSK\",\"ILMN\",\"ADI\",\"PDD\",\"VRTX\",\"NXPI\",\"REGN\",\"WDAY\",\"MNST\",\"ALGN\",\"KLAC\",\"DOCU\",\"KDP\",\"EBAY\",\"WBA\",\"ROST\",\"ASML\",\"EXC\",\"LULU\",\"MTCH\",\"IDXX\",\"SNPS\",\"MAR\",\"KHC\",\"BIIB\",\"EA\",\"NTES\",\"CTSH\",\"AEP\",\"MCHP\",\"DXCM\",\"CDNS\",\"PTON\",\"CTAS\",\"XLNX\",\"MRVL\",\"ALXN\",\"OKTA\",\"PCAR\",\"PAYX\",\"ANSS\",\"ORLY\",\"XEL\",\"TEAM\",\"SGEN\",\"VRSK\",\"SWKS\",\"CPRT\",\"FAST\",\"SPLK\",\"SIRI\",\"DLTR\",\"MXIM\",\"CERN\",\"VRSN\",\"CDW\",\"INCY\",\"TCOM\",\"CHKP\",\"FOXA\",\"FOX\"]\r\n"
      ],
      "execution_count": null,
      "outputs": []
    },
    {
      "cell_type": "code",
      "metadata": {
        "colab": {
          "base_uri": "https://localhost:8080/"
        },
        "id": "7BM5ccdqM2hv",
        "outputId": "a351dceb-455d-4f69-abcb-c3ae292bb2ea"
      },
      "source": [
        "stock_final = pd.DataFrame()\r\n",
        "# iterate over each symbol\r\n",
        "for i in Symbols:  \r\n",
        "    \r\n",
        "    # print the symbol which is being downloaded\r\n",
        "    print( str(Symbols.index(i)) + str(' : ') + i, sep=',', end=',', flush=True)  \r\n",
        "    \r\n",
        "    try:\r\n",
        "        # download the stock price \r\n",
        "        stock = []\r\n",
        "        stock = yf.download(i,start=start, end=end, progress=False)\r\n",
        "        \r\n",
        "        # append the individual stock prices \r\n",
        "        if len(stock) == 0:\r\n",
        "            None\r\n",
        "        else:\r\n",
        "            stock['Name']=i\r\n",
        "            stock_final = stock_final.append(stock,sort=False)\r\n",
        "    except Exception:\r\n",
        "        None\r\n"
      ],
      "execution_count": null,
      "outputs": [
        {
          "output_type": "stream",
          "text": [
            "0 : AAPL,1 : MSFT,2 : AMZN,3 : TSLA,4 : GOOG,5 : FB,6 : GOOGL,7 : NVDA,8 : PYPL,9 : INTC,10 : NFLX,11 : ADBE,12 : CMCSA,13 : CSCO,14 : PEP,15 : AVGO,16 : QCOM,17 : TXN,18 : COST,19 : TMUS,20 : AMGN,21 : SBUX,22 : CHTR,23 : AMD,24 : INTU,25 : AMAT,26 : MELI,27 : MU,28 : ISRG,29 : BKNG,30 : GILD,31 : JD,32 : MDLZ,33 : ZM,34 : ATVI,35 : LRCX,36 : BIDU,37 : FISV,38 : MRNA,39 : ADP,40 : CSX,41 : ADSK,42 : ILMN,43 : ADI,44 : PDD,45 : VRTX,46 : NXPI,47 : REGN,48 : WDAY,49 : MNST,50 : ALGN,51 : KLAC,52 : DOCU,53 : KDP,54 : EBAY,55 : WBA,56 : ROST,57 : ASML,58 : EXC,59 : LULU,60 : MTCH,61 : IDXX,62 : SNPS,63 : MAR,64 : KHC,65 : BIIB,66 : EA,67 : NTES,68 : CTSH,69 : AEP,70 : MCHP,71 : DXCM,72 : CDNS,73 : PTON,74 : CTAS,75 : XLNX,76 : MRVL,77 : ALXN,78 : OKTA,79 : PCAR,80 : PAYX,81 : ANSS,82 : ORLY,83 : XEL,84 : TEAM,85 : SGEN,86 : VRSK,87 : SWKS,88 : CPRT,89 : FAST,90 : SPLK,91 : SIRI,92 : DLTR,93 : MXIM,94 : CERN,95 : VRSN,96 : CDW,97 : INCY,98 : TCOM,99 : CHKP,100 : FOXA,101 : FOX,"
          ],
          "name": "stdout"
        }
      ]
    },
    {
      "cell_type": "code",
      "metadata": {
        "colab": {
          "base_uri": "https://localhost:8080/",
          "height": 225
        },
        "id": "INPAWV5oNCfU",
        "outputId": "deaa368d-6f5b-474f-b69c-74a5f46e9185"
      },
      "source": [
        "\r\n"
      ],
      "execution_count": null,
      "outputs": [
        {
          "output_type": "execute_result",
          "data": {
            "text/html": [
              "<div>\n",
              "<style scoped>\n",
              "    .dataframe tbody tr th:only-of-type {\n",
              "        vertical-align: middle;\n",
              "    }\n",
              "\n",
              "    .dataframe tbody tr th {\n",
              "        vertical-align: top;\n",
              "    }\n",
              "\n",
              "    .dataframe thead th {\n",
              "        text-align: right;\n",
              "    }\n",
              "</style>\n",
              "<table border=\"1\" class=\"dataframe\">\n",
              "  <thead>\n",
              "    <tr style=\"text-align: right;\">\n",
              "      <th></th>\n",
              "      <th>Open</th>\n",
              "      <th>High</th>\n",
              "      <th>Low</th>\n",
              "      <th>Close</th>\n",
              "      <th>Adj Close</th>\n",
              "      <th>Volume</th>\n",
              "      <th>Name</th>\n",
              "    </tr>\n",
              "    <tr>\n",
              "      <th>Date</th>\n",
              "      <th></th>\n",
              "      <th></th>\n",
              "      <th></th>\n",
              "      <th></th>\n",
              "      <th></th>\n",
              "      <th></th>\n",
              "      <th></th>\n",
              "    </tr>\n",
              "  </thead>\n",
              "  <tbody>\n",
              "    <tr>\n",
              "      <th>2016-02-09</th>\n",
              "      <td>23.572500</td>\n",
              "      <td>23.985001</td>\n",
              "      <td>23.482500</td>\n",
              "      <td>23.747499</td>\n",
              "      <td>22.087757</td>\n",
              "      <td>177324800.0</td>\n",
              "      <td>AAPL</td>\n",
              "    </tr>\n",
              "    <tr>\n",
              "      <th>2016-02-10</th>\n",
              "      <td>23.980000</td>\n",
              "      <td>24.087500</td>\n",
              "      <td>23.525000</td>\n",
              "      <td>23.567499</td>\n",
              "      <td>21.920340</td>\n",
              "      <td>169374400.0</td>\n",
              "      <td>AAPL</td>\n",
              "    </tr>\n",
              "    <tr>\n",
              "      <th>2016-02-11</th>\n",
              "      <td>23.447500</td>\n",
              "      <td>23.680000</td>\n",
              "      <td>23.147499</td>\n",
              "      <td>23.424999</td>\n",
              "      <td>21.787796</td>\n",
              "      <td>200298800.0</td>\n",
              "      <td>AAPL</td>\n",
              "    </tr>\n",
              "    <tr>\n",
              "      <th>2016-02-12</th>\n",
              "      <td>23.547501</td>\n",
              "      <td>23.625000</td>\n",
              "      <td>23.252501</td>\n",
              "      <td>23.497499</td>\n",
              "      <td>21.855232</td>\n",
              "      <td>161405600.0</td>\n",
              "      <td>AAPL</td>\n",
              "    </tr>\n",
              "    <tr>\n",
              "      <th>2016-02-16</th>\n",
              "      <td>23.754999</td>\n",
              "      <td>24.212500</td>\n",
              "      <td>23.652500</td>\n",
              "      <td>24.160000</td>\n",
              "      <td>22.471428</td>\n",
              "      <td>196231600.0</td>\n",
              "      <td>AAPL</td>\n",
              "    </tr>\n",
              "  </tbody>\n",
              "</table>\n",
              "</div>"
            ],
            "text/plain": [
              "                 Open       High        Low  ...  Adj Close       Volume  Name\n",
              "Date                                         ...                              \n",
              "2016-02-09  23.572500  23.985001  23.482500  ...  22.087757  177324800.0  AAPL\n",
              "2016-02-10  23.980000  24.087500  23.525000  ...  21.920340  169374400.0  AAPL\n",
              "2016-02-11  23.447500  23.680000  23.147499  ...  21.787796  200298800.0  AAPL\n",
              "2016-02-12  23.547501  23.625000  23.252501  ...  21.855232  161405600.0  AAPL\n",
              "2016-02-16  23.754999  24.212500  23.652500  ...  22.471428  196231600.0  AAPL\n",
              "\n",
              "[5 rows x 7 columns]"
            ]
          },
          "metadata": {
            "tags": []
          },
          "execution_count": 8
        }
      ]
    },
    {
      "cell_type": "code",
      "metadata": {
        "colab": {
          "background_save": true
        },
        "id": "yXMhk8EbNNEG",
        "outputId": "01d03b4a-2ba1-4964-933b-7e720c1baa55"
      },
      "source": [
        "from google.colab import files\r\n",
        "\r\n",
        "stock_final.to_csv('df.csv')\r\n",
        "files.download('df.csv')"
      ],
      "execution_count": null,
      "outputs": [
        {
          "output_type": "display_data",
          "data": {
            "application/javascript": [
              "\n",
              "    async function download(id, filename, size) {\n",
              "      if (!google.colab.kernel.accessAllowed) {\n",
              "        return;\n",
              "      }\n",
              "      const div = document.createElement('div');\n",
              "      const label = document.createElement('label');\n",
              "      label.textContent = `Downloading \"${filename}\": `;\n",
              "      div.appendChild(label);\n",
              "      const progress = document.createElement('progress');\n",
              "      progress.max = size;\n",
              "      div.appendChild(progress);\n",
              "      document.body.appendChild(div);\n",
              "\n",
              "      const buffers = [];\n",
              "      let downloaded = 0;\n",
              "\n",
              "      const channel = await google.colab.kernel.comms.open(id);\n",
              "      // Send a message to notify the kernel that we're ready.\n",
              "      channel.send({})\n",
              "\n",
              "      for await (const message of channel.messages) {\n",
              "        // Send a message to notify the kernel that we're ready.\n",
              "        channel.send({})\n",
              "        if (message.buffers) {\n",
              "          for (const buffer of message.buffers) {\n",
              "            buffers.push(buffer);\n",
              "            downloaded += buffer.byteLength;\n",
              "            progress.value = downloaded;\n",
              "          }\n",
              "        }\n",
              "      }\n",
              "      const blob = new Blob(buffers, {type: 'application/binary'});\n",
              "      const a = document.createElement('a');\n",
              "      a.href = window.URL.createObjectURL(blob);\n",
              "      a.download = filename;\n",
              "      div.appendChild(a);\n",
              "      a.click();\n",
              "      div.remove();\n",
              "    }\n",
              "  "
            ],
            "text/plain": [
              "<IPython.core.display.Javascript object>"
            ]
          },
          "metadata": {
            "tags": []
          }
        },
        {
          "output_type": "display_data",
          "data": {
            "application/javascript": [
              "download(\"download_dd96bb4a-4a43-4286-af06-ed3d0c419453\", \"df.csv\", 11034510)"
            ],
            "text/plain": [
              "<IPython.core.display.Javascript object>"
            ]
          },
          "metadata": {
            "tags": []
          }
        }
      ]
    },
    {
      "cell_type": "code",
      "metadata": {
        "id": "cLc8V6eMPeIx"
      },
      "source": [
        ""
      ],
      "execution_count": null,
      "outputs": []
    }
  ]
}

{
  "nbformat": 4,
  "nbformat_minor": 0,
  "metadata": {
    "colab": {
      "name": "Custom_env.ipynb",
      "provenance": [],
      "collapsed_sections": [],
      "authorship_tag": "ABX9TyOjaNJk8QpDeIo1QisXh3S9",
      "include_colab_link": true
    },
    "kernelspec": {
      "name": "python3",
      "display_name": "Python 3"
    }
  },
  "cells": [
    {
      "cell_type": "markdown",
      "metadata": {
        "id": "view-in-github",
        "colab_type": "text"
      },
      "source": [
        "<a href=\"https://colab.research.google.com/github/Prasanna28Devadiga/Portfolio-Allocation-DRL/blob/master/Custom_env.ipynb\" target=\"_parent\"><img src=\"https://colab.research.google.com/assets/colab-badge.svg\" alt=\"Open In Colab\"/></a>"
      ]
    },
    {
      "cell_type": "code",
      "metadata": {
        "colab": {
          "base_uri": "https://localhost:8080/"
        },
        "id": "UBtjhRMjoUvJ",
        "outputId": "a57f24c2-fdd6-4677-d8f6-ebb88a9de761"
      },
      "source": [
        "!pip3 install gym\r\n",
        "import numpy as np\r\n",
        "import gym\r\n",
        "import random\r\n",
        "import json\r\n",
        "from gym import spaces\r\n",
        "import pandas as pd\r\n",
        "!pip3 install stable_baselines3\r\n"
      ],
      "execution_count": 19,
      "outputs": [
        {
          "output_type": "stream",
          "text": [
            "Requirement already satisfied: gym in /usr/local/lib/python3.7/dist-packages (0.17.3)\n",
            "Requirement already satisfied: pyglet<=1.5.0,>=1.4.0 in /usr/local/lib/python3.7/dist-packages (from gym) (1.5.0)\n",
            "Requirement already satisfied: cloudpickle<1.7.0,>=1.2.0 in /usr/local/lib/python3.7/dist-packages (from gym) (1.3.0)\n",
            "Requirement already satisfied: numpy>=1.10.4 in /usr/local/lib/python3.7/dist-packages (from gym) (1.19.5)\n",
            "Requirement already satisfied: scipy in /usr/local/lib/python3.7/dist-packages (from gym) (1.4.1)\n",
            "Requirement already satisfied: future in /usr/local/lib/python3.7/dist-packages (from pyglet<=1.5.0,>=1.4.0->gym) (0.16.0)\n",
            "Collecting stable_baselines3\n",
            "\u001b[?25l  Downloading https://files.pythonhosted.org/packages/f9/97/f6da6fcaa96934832c02acf95a32309cfa8646b010221f6c7a14bfcf40d0/stable_baselines3-0.11.1-py3-none-any.whl (152kB)\n",
            "\u001b[K     |████████████████████████████████| 153kB 5.4MB/s \n",
            "\u001b[?25hRequirement already satisfied: torch>=1.4.0 in /usr/local/lib/python3.7/dist-packages (from stable_baselines3) (1.7.1+cu101)\n",
            "Requirement already satisfied: pandas in /usr/local/lib/python3.7/dist-packages (from stable_baselines3) (1.1.5)\n",
            "Requirement already satisfied: numpy in /usr/local/lib/python3.7/dist-packages (from stable_baselines3) (1.19.5)\n",
            "Requirement already satisfied: matplotlib in /usr/local/lib/python3.7/dist-packages (from stable_baselines3) (3.2.2)\n",
            "Requirement already satisfied: gym>=0.17 in /usr/local/lib/python3.7/dist-packages (from stable_baselines3) (0.17.3)\n",
            "Requirement already satisfied: cloudpickle in /usr/local/lib/python3.7/dist-packages (from stable_baselines3) (1.3.0)\n",
            "Requirement already satisfied: typing-extensions in /usr/local/lib/python3.7/dist-packages (from torch>=1.4.0->stable_baselines3) (3.7.4.3)\n",
            "Requirement already satisfied: pytz>=2017.2 in /usr/local/lib/python3.7/dist-packages (from pandas->stable_baselines3) (2018.9)\n",
            "Requirement already satisfied: python-dateutil>=2.7.3 in /usr/local/lib/python3.7/dist-packages (from pandas->stable_baselines3) (2.8.1)\n",
            "Requirement already satisfied: cycler>=0.10 in /usr/local/lib/python3.7/dist-packages (from matplotlib->stable_baselines3) (0.10.0)\n",
            "Requirement already satisfied: kiwisolver>=1.0.1 in /usr/local/lib/python3.7/dist-packages (from matplotlib->stable_baselines3) (1.3.1)\n",
            "Requirement already satisfied: pyparsing!=2.0.4,!=2.1.2,!=2.1.6,>=2.0.1 in /usr/local/lib/python3.7/dist-packages (from matplotlib->stable_baselines3) (2.4.7)\n",
            "Requirement already satisfied: scipy in /usr/local/lib/python3.7/dist-packages (from gym>=0.17->stable_baselines3) (1.4.1)\n",
            "Requirement already satisfied: pyglet<=1.5.0,>=1.4.0 in /usr/local/lib/python3.7/dist-packages (from gym>=0.17->stable_baselines3) (1.5.0)\n",
            "Requirement already satisfied: six>=1.5 in /usr/local/lib/python3.7/dist-packages (from python-dateutil>=2.7.3->pandas->stable_baselines3) (1.15.0)\n",
            "Requirement already satisfied: future in /usr/local/lib/python3.7/dist-packages (from pyglet<=1.5.0,>=1.4.0->gym>=0.17->stable_baselines3) (0.16.0)\n",
            "Installing collected packages: stable-baselines3\n",
            "Successfully installed stable-baselines3-0.11.1\n"
          ],
          "name": "stdout"
        }
      ]
    },
    {
      "cell_type": "code",
      "metadata": {
        "id": "TGzMnGnmoiBs"
      },
      "source": [
        "class StockTradingEnvironment(gym.Env):\r\n",
        "  \"\"\"A stock trading environment for OpenAI gym\"\"\"\r\n",
        "  metadata = {'render.modes': ['human']}\r\n",
        "  def __init__(self, df):   # we'll be passing a pandas df as input\r\n",
        "    super(StockTradingEnv, self).__init__()\r\n",
        "    self.df = df\r\n",
        "    self.reward_range = (0, MAX_ACCOUNT_BALANCE)   \r\n",
        "    # Actions of the format Buy x%, Sell x%, Hold   -> buy- [0,1), sell-[1,2) hold - [2,3)\r\n",
        "    self.action_space = spaces.Box(\r\n",
        "      low=np.array([0, 0]), high=np.array([3, 1]), dtype=np.float16) \r\n",
        "    # Prices contains the OHCL values for the last five prices\r\n",
        "    self.observation_space = spaces.Box(\r\n",
        "      low=0, high=1, shape=(6, 6), dtype=np.float16)\r\n",
        "\r\n",
        "def _next_observation(self):\r\n",
        "        # Get the stock data points for the last 5 days and scale to between 0-1\r\n",
        "        frame = np.array([\r\n",
        "            self.df.loc[self.current_step: self.current_step +\r\n",
        "                        5, 'Open'].values / MAX_SHARE_PRICE,\r\n",
        "            self.df.loc[self.current_step: self.current_step +\r\n",
        "                        5, 'High'].values / MAX_SHARE_PRICE,\r\n",
        "            self.df.loc[self.current_step: self.current_step +\r\n",
        "                        5, 'Low'].values / MAX_SHARE_PRICE,\r\n",
        "            self.df.loc[self.current_step: self.current_step +\r\n",
        "                        5, 'Close'].values / MAX_SHARE_PRICE,\r\n",
        "            self.df.loc[self.current_step: self.current_step +\r\n",
        "                        5, 'Volume'].values / MAX_NUM_SHARES,\r\n",
        "        ])\r\n",
        "\r\n",
        "        # Append additional data and scale each value to between 0-1\r\n",
        "        obs = np.append(frame, [[\r\n",
        "            self.balance / MAX_ACCOUNT_BALANCE,\r\n",
        "            self.max_net_worth / MAX_ACCOUNT_BALANCE,\r\n",
        "            self.shares_held / MAX_NUM_SHARES,\r\n",
        "            self.cost_basis / MAX_SHARE_PRICE,\r\n",
        "            self.total_shares_sold / MAX_NUM_SHARES,\r\n",
        "            self.total_sales_value / (MAX_NUM_SHARES * MAX_SHARE_PRICE),\r\n",
        "            self.change,\r\n",
        "            self.rsi,\r\n",
        "            self.mfi, #normalise mfi\r\n",
        "            self.SMA50_Close,  #normalise \r\n",
        "            self.SMA100_Close, #normalise\r\n",
        "            self.SMA200_Close, #normalise\r\n",
        "            self.signal_macd_Close,\r\n",
        "            self.macd_Close\r\n",
        "\r\n",
        "        ]], axis=0)\r\n",
        "\r\n",
        "        return obs"
      ],
      "execution_count": 20,
      "outputs": []
    },
    {
      "cell_type": "code",
      "metadata": {
        "id": "mC8rV2o6PD_O"
      },
      "source": [
        "def step(self, action):\r\n",
        "  # Execute one time step within the environment\r\n",
        "  self._take_action(action)\r\n",
        "  self.current_step += 1\r\n",
        "  if self.current_step > len(self.df.loc[:, 'Open'].values) - 6:\r\n",
        "    self.current_step = 0\r\n",
        "  delay_modifier = (self.current_step / MAX_STEPS)\r\n",
        "  \r\n",
        "  reward = self.balance * delay_modifier\r\n",
        "  done = self.net_worth <= 0\r\n",
        "  obs = self._next_observation()\r\n",
        "  return obs, reward, done, {}"
      ],
      "execution_count": 9,
      "outputs": []
    },
    {
      "cell_type": "code",
      "metadata": {
        "id": "4JJnGKp4PGjw"
      },
      "source": [
        "def _take_action(self, action):\r\n",
        "  # Set the current price to a random price within the time step\r\n",
        "  current_price = random.uniform(\r\n",
        "    self.df.loc[self.current_step, \"Open\"],\r\n",
        "    self.df.loc[self.current_step, \"Close\"])\r\n",
        "  action_type = action[0]\r\n",
        "  amount = action[1]\r\n",
        "  if action_type < 1:\r\n",
        "    # Buy amount % of balance in shares\r\n",
        "    total_possible = self.balance / current_price\r\n",
        "    shares_bought = total_possible * amount\r\n",
        "    prev_cost = self.cost_basis * self.shares_held\r\n",
        "    additional_cost = shares_bought * current_price\r\n",
        "    self.balance -= additional_cost\r\n",
        "    self.cost_basis = (prev_cost + additional_cost) /(self.shares_held + shares_bought)\r\n",
        "    self.shares_held += shares_bought\r\n",
        "  elif actionType < 2:\r\n",
        "    # Sell amount % of shares held\r\n",
        "    shares_sold = self.shares_held * amount\r\n",
        "    self.balance += shares_sold * current_price\r\n",
        "    self.shares_held -= shares_sold\r\n",
        "    self.total_shares_sold += shares_sold\r\n",
        "    self.total_sales_value += shares_sold * current_price\r\n",
        "  self.netWorth = self.balance + self.shares_held * current_price\r\n",
        "  if self.net_worth > self.max_net_worth:\r\n",
        "    self.max_net_worth = net_worth\r\n",
        "  if self.shares_held == 0:\r\n",
        "    self.cost_basis = 0"
      ],
      "execution_count": 10,
      "outputs": []
    },
    {
      "cell_type": "code",
      "metadata": {
        "id": "ynYulTHaPTqs"
      },
      "source": [
        "def render(self, mode='human', close=False):\r\n",
        "  # Render the environment to the screen\r\n",
        "  profit = self.net_worth - INITIAL_ACCOUNT_BALANCE\r\n",
        "  print(f'Step: {self.current_step}')\r\n",
        "  print(f'Balance: {self.balance}')\r\n",
        "  print(f'Shares held: {self.shares_held}')\r\n",
        "  print(f'Total sold: {self.total_shares_sold}')\r\n",
        "  print(f'Avg cost for held shares: {self.cost_basis}')\r\n",
        "  print(f'Total sales value: {self.total_sales_value}')\r\n",
        "  print(f'Net worth: {self.net_worth}')\r\n",
        "  print(f'Max net worth: {self.max_net_worth}')\r\n",
        "  print(f'Profit: {profit}')"
      ],
      "execution_count": 15,
      "outputs": []
    },
    {
      "cell_type": "code",
      "metadata": {
        "colab": {
          "base_uri": "https://localhost:8080/",
          "height": 505
        },
        "id": "bGNyyz6UPo2X",
        "outputId": "e0d6cc81-bda5-4088-ff98-331efd17b863"
      },
      "source": [
        "import gym\r\n",
        "import json\r\n",
        "import datetime as dt\r\n",
        "from stable_baselines.common.policies import MlpPolicy #gotta replace with stable baselines 3 and test it out\r\n",
        "from stable_baselines.common.vec_env import DummyVecEnv\r\n",
        "from stable_baselines import PPO2\r\n",
        "from env.StockTradingEnv import StockTradingEnv\r\n",
        "import pandas as pd\r\n",
        "df = pd.read_csv('./data/nasdaq100.csv')\r\n",
        "df = df.sort_values('Date')\r\n",
        "# The algorithms require a vectorized environment to run\r\n",
        "env = DummyVecEnv([lambda: StockTradingEnv(df)])\r\n",
        "model = PPO2(MlpPolicy, env, verbose=1)\r\n",
        "model.learn(total_timesteps=20000)\r\n",
        "obs = env.reset()\r\n",
        "for i in range(2000):\r\n",
        "  action, _states = model.predict(obs)\r\n",
        "  obs, rewards, done, info = env.step(action)\r\n",
        "  env.render()"
      ],
      "execution_count": 18,
      "outputs": [
        {
          "output_type": "error",
          "ename": "ModuleNotFoundError",
          "evalue": "ignored",
          "traceback": [
            "\u001b[0;31m---------------------------------------------------------------------------\u001b[0m",
            "\u001b[0;31mModuleNotFoundError\u001b[0m                       Traceback (most recent call last)",
            "\u001b[0;32m<ipython-input-18-140f486e1b52>\u001b[0m in \u001b[0;36m<module>\u001b[0;34m()\u001b[0m\n\u001b[1;32m      2\u001b[0m \u001b[0;32mimport\u001b[0m \u001b[0mjson\u001b[0m\u001b[0;34m\u001b[0m\u001b[0;34m\u001b[0m\u001b[0m\n\u001b[1;32m      3\u001b[0m \u001b[0;32mimport\u001b[0m \u001b[0mdatetime\u001b[0m \u001b[0;32mas\u001b[0m \u001b[0mdt\u001b[0m\u001b[0;34m\u001b[0m\u001b[0;34m\u001b[0m\u001b[0m\n\u001b[0;32m----> 4\u001b[0;31m \u001b[0;32mfrom\u001b[0m \u001b[0mstable_baselines\u001b[0m\u001b[0;34m.\u001b[0m\u001b[0mcommon\u001b[0m\u001b[0;34m.\u001b[0m\u001b[0mpolicies\u001b[0m \u001b[0;32mimport\u001b[0m \u001b[0mMlpPolicy\u001b[0m\u001b[0;34m\u001b[0m\u001b[0;34m\u001b[0m\u001b[0m\n\u001b[0m\u001b[1;32m      5\u001b[0m \u001b[0;32mfrom\u001b[0m \u001b[0mstable_baselines\u001b[0m\u001b[0;34m.\u001b[0m\u001b[0mcommon\u001b[0m\u001b[0;34m.\u001b[0m\u001b[0mvec_env\u001b[0m \u001b[0;32mimport\u001b[0m \u001b[0mDummyVecEnv\u001b[0m\u001b[0;34m\u001b[0m\u001b[0;34m\u001b[0m\u001b[0m\n\u001b[1;32m      6\u001b[0m \u001b[0;32mfrom\u001b[0m \u001b[0mstable_baselines\u001b[0m \u001b[0;32mimport\u001b[0m \u001b[0mPPO2\u001b[0m\u001b[0;34m\u001b[0m\u001b[0;34m\u001b[0m\u001b[0m\n",
            "\u001b[0;32m/usr/local/lib/python3.7/dist-packages/stable_baselines/__init__.py\u001b[0m in \u001b[0;36m<module>\u001b[0;34m()\u001b[0m\n\u001b[1;32m      4\u001b[0m \u001b[0;32mfrom\u001b[0m \u001b[0mstable_baselines\u001b[0m\u001b[0;34m.\u001b[0m\u001b[0macer\u001b[0m \u001b[0;32mimport\u001b[0m \u001b[0mACER\u001b[0m\u001b[0;34m\u001b[0m\u001b[0;34m\u001b[0m\u001b[0m\n\u001b[1;32m      5\u001b[0m \u001b[0;32mfrom\u001b[0m \u001b[0mstable_baselines\u001b[0m\u001b[0;34m.\u001b[0m\u001b[0macktr\u001b[0m \u001b[0;32mimport\u001b[0m \u001b[0mACKTR\u001b[0m\u001b[0;34m\u001b[0m\u001b[0;34m\u001b[0m\u001b[0m\n\u001b[0;32m----> 6\u001b[0;31m \u001b[0;32mfrom\u001b[0m \u001b[0mstable_baselines\u001b[0m\u001b[0;34m.\u001b[0m\u001b[0mdeepq\u001b[0m \u001b[0;32mimport\u001b[0m \u001b[0mDQN\u001b[0m\u001b[0;34m\u001b[0m\u001b[0;34m\u001b[0m\u001b[0m\n\u001b[0m\u001b[1;32m      7\u001b[0m \u001b[0;32mfrom\u001b[0m \u001b[0mstable_baselines\u001b[0m\u001b[0;34m.\u001b[0m\u001b[0mher\u001b[0m \u001b[0;32mimport\u001b[0m \u001b[0mHER\u001b[0m\u001b[0;34m\u001b[0m\u001b[0;34m\u001b[0m\u001b[0m\n\u001b[1;32m      8\u001b[0m \u001b[0;32mfrom\u001b[0m \u001b[0mstable_baselines\u001b[0m\u001b[0;34m.\u001b[0m\u001b[0mppo2\u001b[0m \u001b[0;32mimport\u001b[0m \u001b[0mPPO2\u001b[0m\u001b[0;34m\u001b[0m\u001b[0;34m\u001b[0m\u001b[0m\n",
            "\u001b[0;32m/usr/local/lib/python3.7/dist-packages/stable_baselines/deepq/__init__.py\u001b[0m in \u001b[0;36m<module>\u001b[0;34m()\u001b[0m\n\u001b[0;32m----> 1\u001b[0;31m \u001b[0;32mfrom\u001b[0m \u001b[0mstable_baselines\u001b[0m\u001b[0;34m.\u001b[0m\u001b[0mdeepq\u001b[0m\u001b[0;34m.\u001b[0m\u001b[0mpolicies\u001b[0m \u001b[0;32mimport\u001b[0m \u001b[0mMlpPolicy\u001b[0m\u001b[0;34m,\u001b[0m \u001b[0mCnnPolicy\u001b[0m\u001b[0;34m,\u001b[0m \u001b[0mLnMlpPolicy\u001b[0m\u001b[0;34m,\u001b[0m \u001b[0mLnCnnPolicy\u001b[0m\u001b[0;34m\u001b[0m\u001b[0;34m\u001b[0m\u001b[0m\n\u001b[0m\u001b[1;32m      2\u001b[0m \u001b[0;32mfrom\u001b[0m \u001b[0mstable_baselines\u001b[0m\u001b[0;34m.\u001b[0m\u001b[0mdeepq\u001b[0m\u001b[0;34m.\u001b[0m\u001b[0mbuild_graph\u001b[0m \u001b[0;32mimport\u001b[0m \u001b[0mbuild_act\u001b[0m\u001b[0;34m,\u001b[0m \u001b[0mbuild_train\u001b[0m  \u001b[0;31m# noqa\u001b[0m\u001b[0;34m\u001b[0m\u001b[0;34m\u001b[0m\u001b[0m\n\u001b[1;32m      3\u001b[0m \u001b[0;32mfrom\u001b[0m \u001b[0mstable_baselines\u001b[0m\u001b[0;34m.\u001b[0m\u001b[0mdeepq\u001b[0m\u001b[0;34m.\u001b[0m\u001b[0mdqn\u001b[0m \u001b[0;32mimport\u001b[0m \u001b[0mDQN\u001b[0m\u001b[0;34m\u001b[0m\u001b[0;34m\u001b[0m\u001b[0m\n\u001b[1;32m      4\u001b[0m \u001b[0;32mfrom\u001b[0m \u001b[0mstable_baselines\u001b[0m\u001b[0;34m.\u001b[0m\u001b[0mcommon\u001b[0m\u001b[0;34m.\u001b[0m\u001b[0mbuffers\u001b[0m \u001b[0;32mimport\u001b[0m \u001b[0mReplayBuffer\u001b[0m\u001b[0;34m,\u001b[0m \u001b[0mPrioritizedReplayBuffer\u001b[0m  \u001b[0;31m# noqa\u001b[0m\u001b[0;34m\u001b[0m\u001b[0;34m\u001b[0m\u001b[0m\n\u001b[1;32m      5\u001b[0m \u001b[0;34m\u001b[0m\u001b[0m\n",
            "\u001b[0;32m/usr/local/lib/python3.7/dist-packages/stable_baselines/deepq/policies.py\u001b[0m in \u001b[0;36m<module>\u001b[0;34m()\u001b[0m\n\u001b[1;32m      1\u001b[0m \u001b[0;32mimport\u001b[0m \u001b[0mtensorflow\u001b[0m \u001b[0;32mas\u001b[0m \u001b[0mtf\u001b[0m\u001b[0;34m\u001b[0m\u001b[0;34m\u001b[0m\u001b[0m\n\u001b[0;32m----> 2\u001b[0;31m \u001b[0;32mimport\u001b[0m \u001b[0mtensorflow\u001b[0m\u001b[0;34m.\u001b[0m\u001b[0mcontrib\u001b[0m\u001b[0;34m.\u001b[0m\u001b[0mlayers\u001b[0m \u001b[0;32mas\u001b[0m \u001b[0mtf_layers\u001b[0m\u001b[0;34m\u001b[0m\u001b[0;34m\u001b[0m\u001b[0m\n\u001b[0m\u001b[1;32m      3\u001b[0m \u001b[0;32mimport\u001b[0m \u001b[0mnumpy\u001b[0m \u001b[0;32mas\u001b[0m \u001b[0mnp\u001b[0m\u001b[0;34m\u001b[0m\u001b[0;34m\u001b[0m\u001b[0m\n\u001b[1;32m      4\u001b[0m \u001b[0;32mfrom\u001b[0m \u001b[0mgym\u001b[0m\u001b[0;34m.\u001b[0m\u001b[0mspaces\u001b[0m \u001b[0;32mimport\u001b[0m \u001b[0mDiscrete\u001b[0m\u001b[0;34m\u001b[0m\u001b[0;34m\u001b[0m\u001b[0m\n\u001b[1;32m      5\u001b[0m \u001b[0;34m\u001b[0m\u001b[0m\n",
            "\u001b[0;31mModuleNotFoundError\u001b[0m: No module named 'tensorflow.contrib'",
            "",
            "\u001b[0;31m---------------------------------------------------------------------------\u001b[0;32m\nNOTE: If your import is failing due to a missing package, you can\nmanually install dependencies using either !pip or !apt.\n\nTo view examples of installing some common dependencies, click the\n\"Open Examples\" button below.\n\u001b[0;31m---------------------------------------------------------------------------\u001b[0m\n"
          ]
        }
      ]
    },
    {
      "cell_type": "code",
      "metadata": {
        "id": "kAARZs2lRm3j"
      },
      "source": [
        ""
      ],
      "execution_count": null,
      "outputs": []
    }
  ]
}